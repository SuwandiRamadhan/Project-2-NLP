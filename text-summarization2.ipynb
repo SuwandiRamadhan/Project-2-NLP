{
 "cells": [
  {
   "cell_type": "markdown",
   "id": "5c8e521e",
   "metadata": {},
   "source": [
    "# Data & Algoritma Understanding"
   ]
  },
  {
   "cell_type": "markdown",
   "id": "f7e04ab9",
   "metadata": {},
   "source": [
    "## Data Understanding"
   ]
  },
  {
   "cell_type": "markdown",
   "id": "da9bdd3c",
   "metadata": {},
   "source": [
    "### 📊 Nama Dataset\n",
    "liputan6_data.tar.gz"
   ]
  },
  {
   "cell_type": "markdown",
   "id": "80a2be9a",
   "metadata": {},
   "source": [
    "### 🌍 Languages\n",
    "- Indonesian"
   ]
  },
  {
   "cell_type": "markdown",
   "id": "f7d2e012",
   "metadata": {},
   "source": [
    "### 🧩 Data Structure\n",
    "|Nama Kolom|Tipe Data|\n",
    "|----|--------|\n",
    "|`id`|`string`|\n",
    "|`url`|`string`|\n",
    "|`clean_article`|`string`|\n",
    "|`clean_summary`|`string`|\n",
    "|`extractive_summary`|`string`|"
   ]
  },
  {
   "cell_type": "markdown",
   "id": "43523fbb",
   "metadata": {},
   "source": [
    "### ⚙️ Data Instances\n",
    "|Nama Kolom|Contoh Data|\n",
    "|----------|-----------|\n",
    "|`id`|26408|\n",
    "|`url`|https://www.liputan6.com/news/read/26408/pbb-siap-membantu-penyelesaian-konflik-ambon|\n",
    "|`clean_article`|Liputan6.com, Ambon: Partai Bulan Bintang wilayah Maluku bertekad membantu pemerintah menyelesaikan konflik di provinsi tersebut. Syaratnya, penanganan penyelesaian konflik Maluku harus dimulai dari awal kerusuhan, yakni 19 Januari 1999. Demikian hasil Musyawarah Wilayah I PBB Maluku yang dimulai Sabtu pekan silam dan berakhir Senin (31/12) di Ambon. Menurut seorang fungsionaris PBB Ridwan Hasan, persoalan di Maluku bisa selesai asalkan pemerintah dan aparat keamanan serius menangani setiap persoalan di Maluku secara komprehensif dan bijaksana. Itulah sebabnya, PBB wilayah Maluku akan menjadikan penyelesaian konflik sebagai agenda utama partai. PBB Maluku juga akan mendukung penegakan hukum secara terpadu dan tanpa pandang bulu. Siapa saja yang melanggar hukum harus ditindak. Ridwan berharap, Ketua PBB Maluku yang baru, Ali Fauzi, dapat menindak lanjuti agenda politik partai yang telah diamanatkan dan mau mendukung penegakan hukum di Maluku. (ULF/Sahlan Heluth).|\n",
    "|`clean_summary`|Konflik Ambon telah berlangsung selama tiga tahun. Partai Bulan Bintang wilayah Maluku siap membantu pemerintah menyelesaikan kasus di provinsi tersebut.|\n",
    "|`extractive_summary`|Liputan6.com, Ambon: Partai Bulan Bintang wilayah Maluku bertekad membantu pemerintah menyelesaikan konflik di provinsi tersebut. Siapa saja yang melanggar hukum harus ditindak.|"
   ]
  },
  {
   "cell_type": "markdown",
   "id": "fe50c663",
   "metadata": {},
   "source": [
    "### 📅 Data Fields\n",
    "|Nama Kolom|Keterangan|\n",
    "|----------|----------|\n",
    "|`id`|Kolom id unique|\n",
    "|`url`|URL Article|\n",
    "|`clean_article`|Isi original article|\n",
    "|`clean_summary`|Ringkasan Abstract|\n",
    "|`extractive_summary`|Ringkasan Ekstractif|"
   ]
  },
  {
   "cell_type": "markdown",
   "id": "f5392cca",
   "metadata": {
    "vscode": {
     "languageId": "plaintext"
    }
   },
   "source": [
    "## Algoritma Understanding"
   ]
  },
  {
   "cell_type": "markdown",
   "id": "1372d292",
   "metadata": {},
   "source": []
  },
  {
   "cell_type": "markdown",
   "id": "76e27fae",
   "metadata": {},
   "source": [
    "# Model Training & Evaluation"
   ]
  },
  {
   "cell_type": "markdown",
   "id": "24babcdf",
   "metadata": {},
   "source": [
    "### Load Dataset & Convert Data"
   ]
  },
  {
   "cell_type": "code",
   "execution_count": 1,
   "id": "79013207",
   "metadata": {},
   "outputs": [],
   "source": [
    "import pandas as pd\n",
    "import glob"
   ]
  },
  {
   "cell_type": "code",
   "execution_count": 16,
   "id": "733ad7e4",
   "metadata": {},
   "outputs": [
    {
     "name": "stdout",
     "output_type": "stream",
     "text": [
      "Batas 30000 baris tercapai. Berhenti membaca file.\n",
      "Total data yang berhasil diambil: 30000 baris\n"
     ]
    },
    {
     "data": {
      "text/html": [
       "<div>\n",
       "<style scoped>\n",
       "    .dataframe tbody tr th:only-of-type {\n",
       "        vertical-align: middle;\n",
       "    }\n",
       "\n",
       "    .dataframe tbody tr th {\n",
       "        vertical-align: top;\n",
       "    }\n",
       "\n",
       "    .dataframe thead th {\n",
       "        text-align: right;\n",
       "    }\n",
       "</style>\n",
       "<table border=\"1\" class=\"dataframe\">\n",
       "  <thead>\n",
       "    <tr style=\"text-align: right;\">\n",
       "      <th></th>\n",
       "      <th>id</th>\n",
       "      <th>url</th>\n",
       "      <th>clean_article</th>\n",
       "      <th>clean_summary</th>\n",
       "      <th>extractive_summary</th>\n",
       "    </tr>\n",
       "  </thead>\n",
       "  <tbody>\n",
       "    <tr>\n",
       "      <th>0</th>\n",
       "      <td>100000</td>\n",
       "      <td>https://www.liputan6.com/news/read/100000/yudh...</td>\n",
       "      <td>[[Liputan6, ., com, ,, Jakarta, :, Presiden, S...</td>\n",
       "      <td>[[Menurut, Presiden, Susilo, Bambang, Yudhoyon...</td>\n",
       "      <td>[0, 1]</td>\n",
       "    </tr>\n",
       "    <tr>\n",
       "      <th>1</th>\n",
       "      <td>100002</td>\n",
       "      <td>https://www.liputan6.com/news/read/100002/jepa...</td>\n",
       "      <td>[[Liputan6, ., com, ,, Jakarta, :, Perdana, Me...</td>\n",
       "      <td>[[Pada, masa, silam, Jepang, terlalu, ambisius...</td>\n",
       "      <td>[2, 3]</td>\n",
       "    </tr>\n",
       "    <tr>\n",
       "      <th>2</th>\n",
       "      <td>100003</td>\n",
       "      <td>https://www.liputan6.com/news/read/100003/pulu...</td>\n",
       "      <td>[[Liputan6, ., com, ,, Kutai, :, Banjir, denga...</td>\n",
       "      <td>[[Puluhan, hektare, areal, persawahan, yang, s...</td>\n",
       "      <td>[1, 5]</td>\n",
       "    </tr>\n",
       "    <tr>\n",
       "      <th>3</th>\n",
       "      <td>100004</td>\n",
       "      <td>https://www.liputan6.com/news/read/100004/pres...</td>\n",
       "      <td>[[Liputan6, ., com, ,, Jakarta, :, Presiden, S...</td>\n",
       "      <td>[[Sekjen, PBB, Kofi, Annan, memuji, langkah, P...</td>\n",
       "      <td>[2, 5]</td>\n",
       "    </tr>\n",
       "    <tr>\n",
       "      <th>4</th>\n",
       "      <td>100005</td>\n",
       "      <td>https://www.liputan6.com/news/read/100005/warg...</td>\n",
       "      <td>[[Liputan6, ., com, ,, Solok, :, Warga, Kampun...</td>\n",
       "      <td>[[Untuk, mempercepat, pelaksanaan, belajar-men...</td>\n",
       "      <td>[0, 2]</td>\n",
       "    </tr>\n",
       "  </tbody>\n",
       "</table>\n",
       "</div>"
      ],
      "text/plain": [
       "       id                                                url  \\\n",
       "0  100000  https://www.liputan6.com/news/read/100000/yudh...   \n",
       "1  100002  https://www.liputan6.com/news/read/100002/jepa...   \n",
       "2  100003  https://www.liputan6.com/news/read/100003/pulu...   \n",
       "3  100004  https://www.liputan6.com/news/read/100004/pres...   \n",
       "4  100005  https://www.liputan6.com/news/read/100005/warg...   \n",
       "\n",
       "                                       clean_article  \\\n",
       "0  [[Liputan6, ., com, ,, Jakarta, :, Presiden, S...   \n",
       "1  [[Liputan6, ., com, ,, Jakarta, :, Perdana, Me...   \n",
       "2  [[Liputan6, ., com, ,, Kutai, :, Banjir, denga...   \n",
       "3  [[Liputan6, ., com, ,, Jakarta, :, Presiden, S...   \n",
       "4  [[Liputan6, ., com, ,, Solok, :, Warga, Kampun...   \n",
       "\n",
       "                                       clean_summary extractive_summary  \n",
       "0  [[Menurut, Presiden, Susilo, Bambang, Yudhoyon...             [0, 1]  \n",
       "1  [[Pada, masa, silam, Jepang, terlalu, ambisius...             [2, 3]  \n",
       "2  [[Puluhan, hektare, areal, persawahan, yang, s...             [1, 5]  \n",
       "3  [[Sekjen, PBB, Kofi, Annan, memuji, langkah, P...             [2, 5]  \n",
       "4  [[Untuk, mempercepat, pelaksanaan, belajar-men...             [0, 2]  "
      ]
     },
     "execution_count": 16,
     "metadata": {},
     "output_type": "execute_result"
    }
   ],
   "source": [
    "file_list = glob.glob('../data/liputan6_data/canonical/train/*.json')\n",
    "df_list = []\n",
    "total_rows = 0\n",
    "limit = 30000\n",
    "\n",
    "for f in file_list:\n",
    "    # Baca satu file json\n",
    "    temp_df = pd.read_json(f, lines=True)\n",
    "    \n",
    "    # Tambahkan dataframe sementara ke dalam list\n",
    "    df_list.append(temp_df)\n",
    "    \n",
    "    # Update jumlah baris yang sudah terkumpul\n",
    "    total_rows += len(temp_df)\n",
    "    \n",
    "    # Cek apakah jumlah baris sudah melebihi batas\n",
    "    if total_rows >= limit:\n",
    "        print(f\"Batas {limit} baris tercapai. Berhenti membaca file.\")\n",
    "        break \n",
    "\n",
    "# Gabungkan semua dataframe yang ada di list\n",
    "df_train = pd.concat(df_list, ignore_index=True)\n",
    "\n",
    "# Karena file terakhir mungkin membuat total baris lebih dari 30000,\n",
    "# potong dataframe agar ukurannya pas 30000\n",
    "df_train = df_train.head(limit)\n",
    "\n",
    "print(f\"Total data yang berhasil diambil: {len(df_train)} baris\")\n",
    "df_train.head()"
   ]
  },
  {
   "cell_type": "code",
   "execution_count": 17,
   "id": "1d1d7f2f",
   "metadata": {},
   "outputs": [
    {
     "name": "stdout",
     "output_type": "stream",
     "text": [
      "Data csv sudah disimpan ke ../data/data2/data_train_30000.csv\n",
      "Selesai\n"
     ]
    }
   ],
   "source": [
    "df_train.to_csv('../data/data2/data_train_30000.csv', index=False)\n",
    "print('Data csv sudah disimpan ke ../data/data2/data_train_30000.csv')\n",
    "print('Selesai')"
   ]
  },
  {
   "cell_type": "code",
   "execution_count": null,
   "id": "5f24daf7",
   "metadata": {},
   "outputs": [],
   "source": []
  }
 ],
 "metadata": {
  "kernelspec": {
   "display_name": "base",
   "language": "python",
   "name": "python3"
  },
  "language_info": {
   "codemirror_mode": {
    "name": "ipython",
    "version": 3
   },
   "file_extension": ".py",
   "mimetype": "text/x-python",
   "name": "python",
   "nbconvert_exporter": "python",
   "pygments_lexer": "ipython3",
   "version": "3.12.7"
  }
 },
 "nbformat": 4,
 "nbformat_minor": 5
}
